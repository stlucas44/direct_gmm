{
 "cells": [
  {
   "cell_type": "code",
   "execution_count": 1,
   "metadata": {},
   "outputs": [],
   "source": [
    "from pylab import *\n",
    "import matplotlib\n",
    "import matplotlib.colors"
   ]
  },
  {
   "cell_type": "code",
   "execution_count": 2,
   "metadata": {},
   "outputs": [
    {
     "ename": "OSError",
     "evalue": "data_sunday_full/meshk2.csv not found.",
     "output_type": "error",
     "traceback": [
      "\u001b[0;31m---------------------------------------\u001b[0m",
      "\u001b[0;31mOSError\u001b[0mTraceback (most recent call last)",
      "\u001b[0;32m<ipython-input-2-a9dc9d67cd70>\u001b[0m in \u001b[0;36m<module>\u001b[0;34m\u001b[0m\n\u001b[1;32m      1\u001b[0m \u001b[0mnames\u001b[0m \u001b[0;34m=\u001b[0m \u001b[0;34m[\u001b[0m\u001b[0;34m'meshk'\u001b[0m\u001b[0;34m,\u001b[0m\u001b[0;34m'mesh'\u001b[0m\u001b[0;34m,\u001b[0m\u001b[0;34m'vertsk'\u001b[0m\u001b[0;34m,\u001b[0m\u001b[0;34m'verts'\u001b[0m\u001b[0;34m,\u001b[0m\u001b[0;34m'icp'\u001b[0m\u001b[0;34m,\u001b[0m\u001b[0;34m'cpd'\u001b[0m\u001b[0;34m]\u001b[0m \u001b[0;31m#,'areas'\u001b[0m\u001b[0;34m\u001b[0m\u001b[0;34m\u001b[0m\u001b[0m\n\u001b[1;32m      2\u001b[0m \u001b[0;31m#data_20k_fullverts/ #data_monday_final_k100/\u001b[0m\u001b[0;34m\u001b[0m\u001b[0;34m\u001b[0m\u001b[0;34m\u001b[0m\u001b[0m\n\u001b[0;32m----> 3\u001b[0;31m \u001b[0mres\u001b[0m \u001b[0;34m=\u001b[0m \u001b[0;34m[\u001b[0m\u001b[0mnp\u001b[0m\u001b[0;34m.\u001b[0m\u001b[0mloadtxt\u001b[0m\u001b[0;34m(\u001b[0m\u001b[0;34m'data_sunday_full/{}2.csv'\u001b[0m\u001b[0;34m.\u001b[0m\u001b[0mformat\u001b[0m\u001b[0;34m(\u001b[0m\u001b[0mn\u001b[0m\u001b[0;34m)\u001b[0m\u001b[0;34m,\u001b[0m\u001b[0mdelimiter\u001b[0m\u001b[0;34m=\u001b[0m\u001b[0;34m','\u001b[0m\u001b[0;34m)\u001b[0m \u001b[0;32mfor\u001b[0m \u001b[0mn\u001b[0m \u001b[0;32min\u001b[0m \u001b[0mnames\u001b[0m\u001b[0;34m]\u001b[0m\u001b[0;34m\u001b[0m\u001b[0;34m\u001b[0m\u001b[0m\n\u001b[0m\u001b[1;32m      4\u001b[0m \u001b[0mnames\u001b[0m\u001b[0;34m[\u001b[0m\u001b[0;36m0\u001b[0m\u001b[0;34m]\u001b[0m \u001b[0;34m=\u001b[0m \u001b[0;34m'mesh\\n(kmeans)'\u001b[0m\u001b[0;34m\u001b[0m\u001b[0;34m\u001b[0m\u001b[0m\n\u001b[1;32m      5\u001b[0m \u001b[0mnames\u001b[0m\u001b[0;34m[\u001b[0m\u001b[0;36m1\u001b[0m\u001b[0;34m]\u001b[0m \u001b[0;34m=\u001b[0m \u001b[0;34m'mesh\\n(random)'\u001b[0m\u001b[0;34m\u001b[0m\u001b[0;34m\u001b[0m\u001b[0m\n",
      "\u001b[0;32m<ipython-input-2-a9dc9d67cd70>\u001b[0m in \u001b[0;36m<listcomp>\u001b[0;34m(.0)\u001b[0m\n\u001b[1;32m      1\u001b[0m \u001b[0mnames\u001b[0m \u001b[0;34m=\u001b[0m \u001b[0;34m[\u001b[0m\u001b[0;34m'meshk'\u001b[0m\u001b[0;34m,\u001b[0m\u001b[0;34m'mesh'\u001b[0m\u001b[0;34m,\u001b[0m\u001b[0;34m'vertsk'\u001b[0m\u001b[0;34m,\u001b[0m\u001b[0;34m'verts'\u001b[0m\u001b[0;34m,\u001b[0m\u001b[0;34m'icp'\u001b[0m\u001b[0;34m,\u001b[0m\u001b[0;34m'cpd'\u001b[0m\u001b[0;34m]\u001b[0m \u001b[0;31m#,'areas'\u001b[0m\u001b[0;34m\u001b[0m\u001b[0;34m\u001b[0m\u001b[0m\n\u001b[1;32m      2\u001b[0m \u001b[0;31m#data_20k_fullverts/ #data_monday_final_k100/\u001b[0m\u001b[0;34m\u001b[0m\u001b[0;34m\u001b[0m\u001b[0;34m\u001b[0m\u001b[0m\n\u001b[0;32m----> 3\u001b[0;31m \u001b[0mres\u001b[0m \u001b[0;34m=\u001b[0m \u001b[0;34m[\u001b[0m\u001b[0mnp\u001b[0m\u001b[0;34m.\u001b[0m\u001b[0mloadtxt\u001b[0m\u001b[0;34m(\u001b[0m\u001b[0;34m'data_sunday_full/{}2.csv'\u001b[0m\u001b[0;34m.\u001b[0m\u001b[0mformat\u001b[0m\u001b[0;34m(\u001b[0m\u001b[0mn\u001b[0m\u001b[0;34m)\u001b[0m\u001b[0;34m,\u001b[0m\u001b[0mdelimiter\u001b[0m\u001b[0;34m=\u001b[0m\u001b[0;34m','\u001b[0m\u001b[0;34m)\u001b[0m \u001b[0;32mfor\u001b[0m \u001b[0mn\u001b[0m \u001b[0;32min\u001b[0m \u001b[0mnames\u001b[0m\u001b[0;34m]\u001b[0m\u001b[0;34m\u001b[0m\u001b[0;34m\u001b[0m\u001b[0m\n\u001b[0m\u001b[1;32m      4\u001b[0m \u001b[0mnames\u001b[0m\u001b[0;34m[\u001b[0m\u001b[0;36m0\u001b[0m\u001b[0;34m]\u001b[0m \u001b[0;34m=\u001b[0m \u001b[0;34m'mesh\\n(kmeans)'\u001b[0m\u001b[0;34m\u001b[0m\u001b[0;34m\u001b[0m\u001b[0m\n\u001b[1;32m      5\u001b[0m \u001b[0mnames\u001b[0m\u001b[0;34m[\u001b[0m\u001b[0;36m1\u001b[0m\u001b[0;34m]\u001b[0m \u001b[0;34m=\u001b[0m \u001b[0;34m'mesh\\n(random)'\u001b[0m\u001b[0;34m\u001b[0m\u001b[0;34m\u001b[0m\u001b[0m\n",
      "\u001b[0;32m~/py3/lib/python3.6/site-packages/numpy/lib/npyio.py\u001b[0m in \u001b[0;36mloadtxt\u001b[0;34m(fname, dtype, comments, delimiter, converters, skiprows, usecols, unpack, ndmin, encoding, max_rows)\u001b[0m\n\u001b[1;32m    979\u001b[0m             \u001b[0mfname\u001b[0m \u001b[0;34m=\u001b[0m \u001b[0mos_fspath\u001b[0m\u001b[0;34m(\u001b[0m\u001b[0mfname\u001b[0m\u001b[0;34m)\u001b[0m\u001b[0;34m\u001b[0m\u001b[0;34m\u001b[0m\u001b[0m\n\u001b[1;32m    980\u001b[0m         \u001b[0;32mif\u001b[0m \u001b[0m_is_string_like\u001b[0m\u001b[0;34m(\u001b[0m\u001b[0mfname\u001b[0m\u001b[0;34m)\u001b[0m\u001b[0;34m:\u001b[0m\u001b[0;34m\u001b[0m\u001b[0;34m\u001b[0m\u001b[0m\n\u001b[0;32m--> 981\u001b[0;31m             \u001b[0mfh\u001b[0m \u001b[0;34m=\u001b[0m \u001b[0mnp\u001b[0m\u001b[0;34m.\u001b[0m\u001b[0mlib\u001b[0m\u001b[0;34m.\u001b[0m\u001b[0m_datasource\u001b[0m\u001b[0;34m.\u001b[0m\u001b[0mopen\u001b[0m\u001b[0;34m(\u001b[0m\u001b[0mfname\u001b[0m\u001b[0;34m,\u001b[0m \u001b[0;34m'rt'\u001b[0m\u001b[0;34m,\u001b[0m \u001b[0mencoding\u001b[0m\u001b[0;34m=\u001b[0m\u001b[0mencoding\u001b[0m\u001b[0;34m)\u001b[0m\u001b[0;34m\u001b[0m\u001b[0;34m\u001b[0m\u001b[0m\n\u001b[0m\u001b[1;32m    982\u001b[0m             \u001b[0mfencoding\u001b[0m \u001b[0;34m=\u001b[0m \u001b[0mgetattr\u001b[0m\u001b[0;34m(\u001b[0m\u001b[0mfh\u001b[0m\u001b[0;34m,\u001b[0m \u001b[0;34m'encoding'\u001b[0m\u001b[0;34m,\u001b[0m \u001b[0;34m'latin1'\u001b[0m\u001b[0;34m)\u001b[0m\u001b[0;34m\u001b[0m\u001b[0;34m\u001b[0m\u001b[0m\n\u001b[1;32m    983\u001b[0m             \u001b[0mfh\u001b[0m \u001b[0;34m=\u001b[0m \u001b[0miter\u001b[0m\u001b[0;34m(\u001b[0m\u001b[0mfh\u001b[0m\u001b[0;34m)\u001b[0m\u001b[0;34m\u001b[0m\u001b[0;34m\u001b[0m\u001b[0m\n",
      "\u001b[0;32m~/py3/lib/python3.6/site-packages/numpy/lib/_datasource.py\u001b[0m in \u001b[0;36mopen\u001b[0;34m(path, mode, destpath, encoding, newline)\u001b[0m\n\u001b[1;32m    267\u001b[0m \u001b[0;34m\u001b[0m\u001b[0m\n\u001b[1;32m    268\u001b[0m     \u001b[0mds\u001b[0m \u001b[0;34m=\u001b[0m \u001b[0mDataSource\u001b[0m\u001b[0;34m(\u001b[0m\u001b[0mdestpath\u001b[0m\u001b[0;34m)\u001b[0m\u001b[0;34m\u001b[0m\u001b[0;34m\u001b[0m\u001b[0m\n\u001b[0;32m--> 269\u001b[0;31m     \u001b[0;32mreturn\u001b[0m \u001b[0mds\u001b[0m\u001b[0;34m.\u001b[0m\u001b[0mopen\u001b[0m\u001b[0;34m(\u001b[0m\u001b[0mpath\u001b[0m\u001b[0;34m,\u001b[0m \u001b[0mmode\u001b[0m\u001b[0;34m,\u001b[0m \u001b[0mencoding\u001b[0m\u001b[0;34m=\u001b[0m\u001b[0mencoding\u001b[0m\u001b[0;34m,\u001b[0m \u001b[0mnewline\u001b[0m\u001b[0;34m=\u001b[0m\u001b[0mnewline\u001b[0m\u001b[0;34m)\u001b[0m\u001b[0;34m\u001b[0m\u001b[0;34m\u001b[0m\u001b[0m\n\u001b[0m\u001b[1;32m    270\u001b[0m \u001b[0;34m\u001b[0m\u001b[0m\n\u001b[1;32m    271\u001b[0m \u001b[0;34m\u001b[0m\u001b[0m\n",
      "\u001b[0;32m~/py3/lib/python3.6/site-packages/numpy/lib/_datasource.py\u001b[0m in \u001b[0;36mopen\u001b[0;34m(self, path, mode, encoding, newline)\u001b[0m\n\u001b[1;32m    621\u001b[0m                                       encoding=encoding, newline=newline)\n\u001b[1;32m    622\u001b[0m         \u001b[0;32melse\u001b[0m\u001b[0;34m:\u001b[0m\u001b[0;34m\u001b[0m\u001b[0;34m\u001b[0m\u001b[0m\n\u001b[0;32m--> 623\u001b[0;31m             \u001b[0;32mraise\u001b[0m \u001b[0mIOError\u001b[0m\u001b[0;34m(\u001b[0m\u001b[0;34m\"%s not found.\"\u001b[0m \u001b[0;34m%\u001b[0m \u001b[0mpath\u001b[0m\u001b[0;34m)\u001b[0m\u001b[0;34m\u001b[0m\u001b[0;34m\u001b[0m\u001b[0m\n\u001b[0m\u001b[1;32m    624\u001b[0m \u001b[0;34m\u001b[0m\u001b[0m\n\u001b[1;32m    625\u001b[0m \u001b[0;34m\u001b[0m\u001b[0m\n",
      "\u001b[0;31mOSError\u001b[0m: data_sunday_full/meshk2.csv not found."
     ]
    }
   ],
   "source": [
    "names = ['meshk','mesh','vertsk','verts','icp','cpd'] #,'areas'\n",
    "#data_20k_fullverts/ #data_monday_final_k100/\n",
    "res = [np.loadtxt('data_sunday_full/{}2.csv'.format(n),delimiter=',') for n in names]\n",
    "names[0] = 'mesh\\n(kmeans)'\n",
    "names[1] = 'mesh\\n(random)'\n",
    "#names[2] = 'mesh (a)\\n(kmeans)'\n",
    "names[2] = 'points\\n(kmeans)'\n",
    "names[3] = 'points\\n(random)'"
   ]
  },
  {
   "cell_type": "code",
   "execution_count": null,
   "metadata": {},
   "outputs": [],
   "source": [
    "for x,l in zip(res,names):\n",
    "    plt.scatter(np.sqrt(x[:,0]**2),x[:,1],label=l,s=100,alpha=0.5)\n",
    "plt.legend()\n",
    "plt.xlabel('rotation error')\n",
    "plt.ylabel('translation error')\n"
   ]
  },
  {
   "cell_type": "code",
   "execution_count": null,
   "metadata": {},
   "outputs": [],
   "source": [
    "[(min(X),max(X)) for X in [_[:,0] for _ in res]]"
   ]
  },
  {
   "cell_type": "code",
   "execution_count": null,
   "metadata": {},
   "outputs": [],
   "source": [
    "from matplotlib import rc\n",
    "plt.style.use('fivethirtyeight')\n",
    "plt.style.use('seaborn-white')\n",
    "#plt.rcParams[\"font.family\"] = \"sans-serif\"\n",
    "rc('font',**{'family':'sans-serif','sans-serif':['cm']})\n",
    "#plt.rcParams['font.sans-serif'] = ['Helvetica']\n",
    "fig = plt.figure(figsize=(15,6))\n",
    "plt.subplot(1,2,1)\n",
    "model_scale = np.sqrt((0.1513)**2 + (0.1483)**2 + (0.1144)**2)\n",
    "\n",
    "angle_errors = []\n",
    "for result in res:\n",
    "    #new_res = np.minimum(2*np.arccos(result[:,0]),2*np.arccos(-result[:,0]))\n",
    "    new_res = np.clip(2*result[:,0]**2-1,1e-9,1-1e-9)\n",
    "    new_res =np.arccos(new_res)\n",
    "    new_res[np.isnan(new_res)] = np.pi\n",
    "    angle_errors.append(new_res*180.0/np.pi)\n",
    "\n",
    "plt.boxplot([_ for _ in angle_errors],labels=names,notch=True,flierprops={'marker':''},medianprops={'color':'k'})\n",
    "plt.title('rotation error')\n",
    "plt.ylabel('degrees')\n",
    "#plt.ylim(0,.05)\n",
    "#plt.ylim(top=4,bottom=0)\n",
    "plt.ylim(bottom=0)\n",
    "for i,err in enumerate(res):\n",
    "    y = angle_errors[i]\n",
    "    x = np.random.normal(i+1, 0.05, size=len(y))\n",
    "    p = plt.plot(x,y,'.',alpha=0.3)\n",
    "    plt_color = matplotlib.colors.hex2color(p[0].get_color())\n",
    "    clr2 = tuple(np.array(plt_color)*0.5)\n",
    "    plt.plot(i+1,y.mean(),'.',c=plt_color,ms=20,alpha=0.8,mec=clr2,lw=1.0)\n",
    "plt.ylim(top=5.5)\n",
    "plt.grid(True,axis='y')\n",
    "plt.subplot(1,2,2)\n",
    "\n",
    "plt.boxplot([_[:,1]/model_scale * 100 for _ in res],labels=names,notch=True,flierprops={'marker':''},medianprops={'color':'k'})\n",
    "#plt.ylim(0,0.01)\n",
    "plt.title('translation error')\n",
    "plt.ylabel('percent of model scale')\n",
    "#print([2*np.arccos(abs(_[:,0])).mean() for _ in res])\n",
    "print([_.mean() for _ in angle_errors])\n",
    "\n",
    "print([_[:,1].mean() for _ in res])\n",
    "#print([2*np.arccos(abs(_[:,0])).max() for _ in res])\n",
    "\n",
    "plt.ylim(bottom=0)\n",
    "for i,err in enumerate(res):\n",
    "    y = err[:,1]/model_scale * 100\n",
    "    x = np.random.normal(i+1, 0.05, size=len(y))\n",
    "    p = plt.plot(x,y,'.',alpha=0.3)\n",
    "    plt_color = matplotlib.colors.hex2color(p[0].get_color())\n",
    "    clr2 = tuple(np.array(plt_color)*0.5)\n",
    "    plt.plot(i+1,y.mean(),'.',c=plt_color,ms=20,alpha=0.8,mec=clr2,lw=1.0)\n",
    "#plt.ylim(top=0.025/0.05)\n",
    "plt.ylim(top=1.1)\n",
    "plt.grid(True,axis='y')\n",
    "plt.tight_layout()\n",
    "\n",
    "\n",
    "fig.savefig('new-viz-k100_2.pdf', facecolor=fig.get_facecolor(), edgecolor='none')"
   ]
  },
  {
   "cell_type": "code",
   "execution_count": null,
   "metadata": {},
   "outputs": [],
   "source": [
    "plt.rcParams"
   ]
  },
  {
   "cell_type": "code",
   "execution_count": null,
   "metadata": {},
   "outputs": [],
   "source": []
  }
 ],
 "metadata": {
  "kernelspec": {
   "display_name": "Python 3",
   "language": "python",
   "name": "python3"
  },
  "language_info": {
   "codemirror_mode": {
    "name": "ipython",
    "version": 3
   },
   "file_extension": ".py",
   "mimetype": "text/x-python",
   "name": "python",
   "nbconvert_exporter": "python",
   "pygments_lexer": "ipython3",
   "version": "3.6.9"
  }
 },
 "nbformat": 4,
 "nbformat_minor": 2
}
